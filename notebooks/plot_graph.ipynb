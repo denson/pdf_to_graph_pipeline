{
 "cells": [
  {
   "cell_type": "code",
   "execution_count": 3,
   "id": "ae2b05b2-062b-475a-bcd8-a5c143c19cc4",
   "metadata": {},
   "outputs": [],
   "source": [
    "from yfiles_jupyter_graphs import GraphWidget\n",
    "from neo4j import GraphDatabase\n",
    "\n",
    "# Setup Neo4j connection\n",
    "NEO4J_URI=\"neo4j+s://2a3819f9.databases.neo4j.io\"\n",
    "NEO4J_USERNAME=\"neo4j\"\n",
    "NEO4J_PASSWORD=\"2p8vNA7-7gpeHXyN730imFawtJB8GL1Z4snE-3vYAxc\"\n",
    "AURA_INSTANCEID=\"2a3819f9\"\n",
    "AURA_INSTANCENAME=\"Instance01\"\n",
    "\n",
    "URI = NEO4J_URI\n",
    "AUTH = (NEO4J_USERNAME, NEO4J_PASSWORD)\n",
    "\n",
    "\n",
    "# Test the connection\n",
    "driver = GraphDatabase.driver(NEO4J_URI, auth=AUTH)"
   ]
  },
  {
   "cell_type": "code",
   "execution_count": null,
   "id": "40dec3ca-943d-4693-b857-be815765949e",
   "metadata": {},
   "outputs": [],
   "source": []
  },
  {
   "cell_type": "code",
   "execution_count": null,
   "id": "f96af42c-826b-4a33-896a-09bdc6179ec4",
   "metadata": {},
   "outputs": [],
   "source": []
  },
  {
   "cell_type": "code",
   "execution_count": null,
   "id": "b245d7d1-11be-48d9-afd4-379118592e0f",
   "metadata": {},
   "outputs": [],
   "source": []
  },
  {
   "cell_type": "code",
   "execution_count": null,
   "id": "7c1576d4-f0e4-4869-a196-1bdfa64abd30",
   "metadata": {},
   "outputs": [],
   "source": []
  },
  {
   "cell_type": "code",
   "execution_count": null,
   "id": "a2be2040-b94e-492c-9124-3db9b024d6b9",
   "metadata": {},
   "outputs": [],
   "source": []
  },
  {
   "cell_type": "code",
   "execution_count": 4,
   "id": "da88674e-d5b2-446c-8d22-a4ddb7b09cb2",
   "metadata": {},
   "outputs": [
    {
     "data": {
      "application/vnd.jupyter.widget-view+json": {
       "model_id": "a8bd4bdb0d9b4c97b3062d13a232458c",
       "version_major": 2,
       "version_minor": 0
      },
      "text/plain": [
       "GraphWidget(layout=Layout(height='800px', width='100%'))"
      ]
     },
     "metadata": {},
     "output_type": "display_data"
    }
   ],
   "source": [
    "\n",
    "\n",
    "# Visualize the graph\n",
    "def showGraph(cypher: str = \"MATCH (s)-[r:!MENTIONS]->(t) RETURN s,r,t LIMIT 500\"):\n",
    "    with GraphDatabase.driver(uri=NEO4J_URI, auth=(NEO4J_USERNAME, NEO4J_PASSWORD)) as driver:\n",
    "        with driver.session() as session:\n",
    "            widget = GraphWidget(graph=session.run(cypher).graph())\n",
    "            widget.node_label_mapping = 'id'\n",
    "            return widget\n",
    "\n",
    "showGraph()"
   ]
  }
 ],
 "metadata": {
  "kernelspec": {
   "display_name": "Python 3 (ipykernel)",
   "language": "python",
   "name": "python3"
  },
  "language_info": {
   "codemirror_mode": {
    "name": "ipython",
    "version": 3
   },
   "file_extension": ".py",
   "mimetype": "text/x-python",
   "name": "python",
   "nbconvert_exporter": "python",
   "pygments_lexer": "ipython3",
   "version": "3.10.16"
  }
 },
 "nbformat": 4,
 "nbformat_minor": 5
}
