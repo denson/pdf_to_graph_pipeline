{
 "cells": [
  {
   "cell_type": "code",
   "execution_count": null,
   "id": "060918c4-c22d-4224-9184-d92afe01ba05",
   "metadata": {},
   "outputs": [],
   "source": []
  },
  {
   "cell_type": "code",
   "execution_count": null,
   "id": "a0baf2eb-5bcf-4375-a5f5-a0696ebc6cc3",
   "metadata": {},
   "outputs": [],
   "source": []
  },
  {
   "cell_type": "code",
   "execution_count": null,
   "id": "43d17cce-ab71-4f6e-a2d9-84ce320d80b3",
   "metadata": {},
   "outputs": [],
   "source": []
  },
  {
   "cell_type": "code",
   "execution_count": null,
   "id": "7af21183-58a7-4b15-b508-dbce55209dca",
   "metadata": {},
   "outputs": [],
   "source": []
  },
  {
   "cell_type": "code",
   "execution_count": null,
   "id": "04e246fb-9570-415a-9435-2ee0cc659e9e",
   "metadata": {},
   "outputs": [],
   "source": []
  },
  {
   "cell_type": "code",
   "execution_count": null,
   "id": "054cb91a-a60b-451b-84ef-0753c5acf988",
   "metadata": {},
   "outputs": [],
   "source": []
  },
  {
   "cell_type": "code",
   "execution_count": 4,
   "id": "c93b52be-309b-4580-9dd2-de756fd3ebf7",
   "metadata": {},
   "outputs": [
    {
     "name": "stdout",
     "output_type": "stream",
     "text": [
      "Collecting youtube-transcript-api\n",
      "  Downloading youtube_transcript_api-0.6.3-py3-none-any.whl.metadata (17 kB)\n",
      "Requirement already satisfied: defusedxml<0.8.0,>=0.7.1 in c:\\users\\denso\\.conda\\envs\\swarm_env\\lib\\site-packages (from youtube-transcript-api) (0.7.1)\n",
      "Requirement already satisfied: requests in c:\\users\\denso\\.conda\\envs\\swarm_env\\lib\\site-packages (from youtube-transcript-api) (2.32.3)\n",
      "Requirement already satisfied: charset_normalizer<4,>=2 in c:\\users\\denso\\.conda\\envs\\swarm_env\\lib\\site-packages (from requests->youtube-transcript-api) (3.4.0)\n",
      "Requirement already satisfied: idna<4,>=2.5 in c:\\users\\denso\\.conda\\envs\\swarm_env\\lib\\site-packages (from requests->youtube-transcript-api) (3.10)\n",
      "Requirement already satisfied: urllib3<3,>=1.21.1 in c:\\users\\denso\\.conda\\envs\\swarm_env\\lib\\site-packages (from requests->youtube-transcript-api) (2.3.0)\n",
      "Requirement already satisfied: certifi>=2017.4.17 in c:\\users\\denso\\.conda\\envs\\swarm_env\\lib\\site-packages (from requests->youtube-transcript-api) (2024.12.14)\n",
      "Downloading youtube_transcript_api-0.6.3-py3-none-any.whl (622 kB)\n",
      "   ---------------------------------------- 0.0/622.3 kB ? eta -:--:--\n",
      "   ---------------------------------------- 0.0/622.3 kB ? eta -:--:--\n",
      "   ---------------- ----------------------- 262.1/622.3 kB ? eta -:--:--\n",
      "   ---------------------------------------- 622.3/622.3 kB 1.4 MB/s eta 0:00:00\n",
      "Installing collected packages: youtube-transcript-api\n",
      "Successfully installed youtube-transcript-api-0.6.3\n"
     ]
    }
   ],
   "source": [
    "!pip install youtube-transcript-api"
   ]
  },
  {
   "cell_type": "code",
   "execution_count": 2,
   "id": "68663a89-b1ff-4e13-b5c7-530a780be357",
   "metadata": {},
   "outputs": [
    {
     "name": "stdout",
     "output_type": "stream",
     "text": [
      "Fetching transcript for video ID: 0JPQrRdu4Ok\n",
      "Transcript saved to: transcripts\\0JPQrRdu4Ok.txt\n",
      "Fetching transcript for video ID: cyrrfl0eNYc\n",
      "Transcript saved to: transcripts\\cyrrfl0eNYc.txt\n"
     ]
    }
   ],
   "source": [
    "import re\n",
    "from urllib.parse import urlparse, parse_qs\n",
    "from youtube_transcript_api import YouTubeTranscriptApi\n",
    "\n",
    "\n",
    "def extract_video_id(youtube_url: str) -> str:\n",
    "    \"\"\"\n",
    "    Extract the video ID from a YouTube URL.\n",
    "    \"\"\"\n",
    "    short_url_match = re.match(r'(https?://)?(www\\.)?youtu\\.be/(?P<id>[^?&]+)', youtube_url)\n",
    "    if short_url_match:\n",
    "        return short_url_match.group('id')\n",
    "\n",
    "    shorts_match = re.match(r'(https?://)?(www\\.)?youtube\\.com/shorts/(?P<id>[^?&]+)', youtube_url)\n",
    "    if shorts_match:\n",
    "        return shorts_match.group('id')\n",
    "\n",
    "    parsed_url = urlparse(youtube_url)\n",
    "    query_params = parse_qs(parsed_url.query)\n",
    "    if 'v' in query_params:\n",
    "        return query_params['v'][0]\n",
    "\n",
    "    raise ValueError(f\"Could not parse YouTube video ID from URL: {youtube_url}\")\n",
    "\n",
    "\n",
    "def get_transcript_with_timestamps(video_id: str, languages=('en', 'en-US')) -> str:\n",
    "    \"\"\"\n",
    "    Retrieve the transcript text with timestamps for a given YouTube video ID.\n",
    "    \"\"\"\n",
    "    try:\n",
    "        transcript_list = YouTubeTranscriptApi.get_transcript(video_id, languages=list(languages))\n",
    "        \n",
    "        # Combine text and timestamps into a formatted string\n",
    "        transcript_with_timestamps = \"\\n\".join(\n",
    "            [f\"[{entry['start']:.2f}s] {entry['text']}\" for entry in transcript_list]\n",
    "        )\n",
    "        return transcript_with_timestamps\n",
    "    except Exception as e:\n",
    "        print(f\"Error fetching transcript for video {video_id}: {e}\")\n",
    "        return \"\"\n",
    "\n",
    "\n",
    "def download_transcripts_from_list(url_list, output_dir=\"transcripts\"):\n",
    "    \"\"\"\n",
    "    Downloads transcripts with timestamps from a list of YouTube URLs and saves them as text files.\n",
    "    \"\"\"\n",
    "    import os\n",
    "    if not os.path.exists(output_dir):\n",
    "        os.makedirs(output_dir)\n",
    "\n",
    "    for url in url_list:\n",
    "        try:\n",
    "            video_id = extract_video_id(url)\n",
    "            print(f\"Fetching transcript for video ID: {video_id}\")\n",
    "\n",
    "            # Get the transcript with timestamps\n",
    "            transcript_text = get_transcript_with_timestamps(video_id)\n",
    "\n",
    "            if transcript_text:\n",
    "                out_path = os.path.join(output_dir, f\"{video_id}.txt\")\n",
    "                with open(out_path, \"w\", encoding=\"utf-8\") as f:\n",
    "                    f.write(transcript_text)\n",
    "                print(f\"Transcript saved to: {out_path}\")\n",
    "            else:\n",
    "                print(f\"No transcript found or error for video ID: {video_id}\")\n",
    "        except ValueError as e:\n",
    "            print(e)\n",
    "\n",
    "\n",
    "if __name__ == \"__main__\":\n",
    "    youtube_urls = [\n",
    "        \"https://www.youtube.com/watch?v=0JPQrRdu4Ok\",\n",
    "        \"https://www.youtube.com/watch?v=cyrrfl0eNYc\",\n",
    "        # Add more URLs as needed\n",
    "    ]\n",
    "\n",
    "    download_transcripts_from_list(youtube_urls)\n"
   ]
  }
 ],
 "metadata": {
  "kernelspec": {
   "display_name": "Python 3 (ipykernel)",
   "language": "python",
   "name": "python3"
  },
  "language_info": {
   "codemirror_mode": {
    "name": "ipython",
    "version": 3
   },
   "file_extension": ".py",
   "mimetype": "text/x-python",
   "name": "python",
   "nbconvert_exporter": "python",
   "pygments_lexer": "ipython3",
   "version": "3.10.16"
  }
 },
 "nbformat": 4,
 "nbformat_minor": 5
}
